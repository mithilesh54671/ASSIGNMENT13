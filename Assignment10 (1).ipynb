{
 "cells": [
  {
   "cell_type": "markdown",
   "id": "200eec6c-341c-46c7-b64a-d33ff095312d",
   "metadata": {},
   "source": [
    "Q1. What is a database? Differentiate between SQL and NoSQL databases."
   ]
  },
  {
   "cell_type": "markdown",
   "id": "1a6d8635-e4ae-4d50-be1d-3aabe2d48642",
   "metadata": {},
   "source": [
    "SQL\n",
    "MongoDB\n",
    "NoSQL\n",
    "SQL databases are primarily referred to as Relational Databases (RDBMS).\n",
    "\n",
    "NoSQL databases are primarily referred to as Non-relational or Distributed Database.\n",
    "\n",
    "svg viewer\n",
    "SQL\n",
    "\n",
    "SQL databases are table based databases.\n",
    "\n",
    "Have predefined schema.\n",
    "Are vertically scalable.\n",
    "Use SQL (Structured Query Language) for defining and manipulating the data.\n",
    "\n",
    "\n",
    "A good fit for the complex query intensive environment\n",
    "\n",
    "Emphasize ACID properties (Atomicity, Consistency, Isolation and Durability)\n",
    "Examples include: MySql, Oracle, Sqlite, Postgres and MS-SQL.\n",
    "NoSQL\n",
    "\n",
    "NoSQL databases are document based, key-value pairs, graph databases.\n",
    "Have dynamic schema.\n",
    "Are horizontally scalable.\n",
    "Focused on the collection of documents.\n",
    "Not ideal for complex queries.\n",
    "\n",
    "\n",
    "Follow the Brewers CAP theorem (Consistency, Availability and Partition tolerance )\n",
    "\n",
    "Examples include: MongoDB, BigTable, Redis, RavenDb, Cassandra, Hbase, Neo4j and CouchDb.\n",
    "Diving deeper\n",
    "Relational database: is a collective set of multiple data sets organized by tables, records and columns.\n",
    "Document database: pairs each key with a complex data structure known as a document. Documents can contain many different key-value pairs and nested documents.\n",
    "svg viewer\n",
    "Key-value database: are the simplest NoSQL databases. Every single item in the database is stored as an attribute name (or ‘key’), together with its value.\n",
    "svg viewer\n",
    "License: Creative Commons -Attribution -ShareAlike 4.0 (CC-BY-SA 4.0)"
   ]
  },
  {
   "cell_type": "markdown",
   "id": "8019c93a-f21e-4785-944a-dadeec887749",
   "metadata": {},
   "source": [
    "Q2. What is DDL? Explain why CREATE, DROP, ALTER, and TRUNCATE are used with an example."
   ]
  },
  {
   "cell_type": "markdown",
   "id": "8f345ef4-6c23-4d80-aeee-ded51b497ef4",
   "metadata": {},
   "source": [
    "#Switched to a database\n",
    "mysql> USE GVKCV;\n",
    "Database changed\n",
    "\n",
    "#Creating table student\n",
    "mysql> create table student\n",
    "    -> (ROLLNO INT NOT NULL PRIMARY KEY,\n",
    "    -> NAME CHAR(10),\n",
    "    -> TELUGU CHAR(10),\n",
    "    -> HINDI CHAR(10),\n",
    "    -> MATHS CHAR(10));\n",
    "Query OK, 0 rows affected (1.38 sec)\n",
    "\n",
    "#Inserting values into table\n",
    "mysql> insert into student\n",
    "    -> values(101,\"student1\",50,51,52),\n",
    "    -> (102,\"student2\",60,61,62),\n",
    "    -> (103,\"student3\",70,71,72),\n",
    "    -> (104,\"student4\",80,81,82),\n",
    "    -> (105,\"student5\",90,91,92),\n",
    "    -> (106,\"student6\",40,41,42),\n",
    "    -> (107,\"student7\",63,64,65);\n",
    "Query OK, 7 rows affected (0.24 sec)\n",
    "Records: 7  Duplicates: 0  Warnings: 0\n",
    "\n",
    "#Adding new attribute computers\n",
    "mysql> alter table student\n",
    "    -> add (computers char(10));\n",
    "Query OK, 0 rows affected (1.13 sec)\n",
    "Records: 0  Duplicates: 0  Warnings: 0\n",
    "\n",
    "#Describing table\n",
    "mysql> desc student;\n",
    "+-----------+----------+------+-----+---------+-------+\n",
    "| Field     | Type     | Null | Key | Default | Extra |\n",
    "+-----------+----------+------+-----+---------+-------+\n",
    "| ROLLNO    | int      | NO   | PRI | NULL    |       |\n",
    "| NAME      | char(10) | YES  |     | NULL    |       |\n",
    "| TELUGU    | char(10) | YES  |     | NULL    |       |\n",
    "| HINDI     | char(10) | YES  |     | NULL    |       |\n",
    "| MATHS     | char(10) | YES  |     | NULL    |       |\n",
    "| computers | char(10) | YES  |     | NULL    |       |\n",
    "+-----------+----------+------+-----+---------+-------+"
   ]
  },
  {
   "cell_type": "markdown",
   "id": "794a249d-a8f4-4437-abb2-63bbf0a15d35",
   "metadata": {},
   "source": [
    "Q3. What is DML? Explain INSERT, UPDATE, and DELETE with an example."
   ]
  },
  {
   "cell_type": "markdown",
   "id": "5b3fcf72-3ef4-4050-9f9c-b6e20e3b6540",
   "metadata": {},
   "source": [
    "mysql> select *from student;\n",
    "+--------+----------+--------+-------+-------+\n",
    "| ROLLNO | NAME     | TELUGU | HINDI | MATHS |\n",
    "+--------+----------+--------+-------+-------+\n",
    "|    101 | student1 | 50     | 51    | 52    |\n",
    "|    102 | student2 | 60     | 61    | 62    |\n",
    "|    103 | student3 | 70     | 71    | 72    |\n",
    "|    104 | student4 | 80     | 81    | 82    |\n",
    "|    105 | student5 | 90     | 91    | 92    |\n",
    "|    106 | student6 | 40     | 41    | 42    |\n",
    "|    107 | student7 | 63     | 64    | 65    |\n",
    "+--------+----------+--------+-------+-------+"
   ]
  },
  {
   "cell_type": "markdown",
   "id": "4007e967-1005-4f72-b1eb-b73922fb73b0",
   "metadata": {},
   "source": [
    "Q4. What is DQL? Explain SELECT with an example."
   ]
  },
  {
   "cell_type": "markdown",
   "id": "001a788b-6027-4bec-8ed3-5b40b636c731",
   "metadata": {},
   "source": [
    "We can define DQL as follows it is a component of SQL statement that allows getting data from the database and imposing order upon it. \n",
    "It includes the select statemnent. This command allows getting the data out of the database to perform operations with it."
   ]
  },
  {
   "cell_type": "markdown",
   "id": "21cb55dd-76bc-46da-bdfe-c742645ae785",
   "metadata": {},
   "source": [
    "Q5. Explain Primary Key and Foreign Key."
   ]
  },
  {
   "cell_type": "markdown",
   "id": "7914fdc6-8b93-4089-bd90-8e1a23a6d1d3",
   "metadata": {},
   "source": [
    "A primary key is used to ensure data in the specific column is unique. A foreign key ia a column or group of columns in a relational database table that provides a link between data in two tables. "
   ]
  },
  {
   "cell_type": "markdown",
   "id": "3195928b-442a-412c-aa9c-58f0b334257f",
   "metadata": {},
   "source": [
    "Q6. Write a python code to connect MySQL to python. Explain the cursor() and execute() method."
   ]
  },
  {
   "cell_type": "markdown",
   "id": "30e7d6ed-7c09-41e8-b9c5-e6dd2edd9a46",
   "metadata": {},
   "source": [
    "import mysql.connector\n",
    "  \n",
    "dataBase = mysql.connector.connect(\n",
    "  host =\"localhost\",\n",
    "  user =\"user\",\n",
    "  passwd =\"password\"\n",
    ")\n",
    " \n",
    "print(dataBase)\n",
    "  \n",
    "# Disconnecting from the server\n",
    "dataBase.close()"
   ]
  },
  {
   "cell_type": "markdown",
   "id": "ca6310dc-cbd7-4d30-bda3-448c5c35b205",
   "metadata": {},
   "source": [
    "Q7. Give the order of execution of SQL clauses in an SQL query."
   ]
  },
  {
   "cell_type": "markdown",
   "id": "611665ac-b7dd-49ee-be0c-9c7a4367f35a",
   "metadata": {},
   "source": [
    "FROM/JOIN,\n",
    "WHERE,\n",
    "GROUP BY,\n",
    "HAVING,\n",
    "SELECT,\n",
    "ORDER BY,\n",
    "LIMIT/OFFSET,"
   ]
  },
  {
   "cell_type": "code",
   "execution_count": null,
   "id": "4fd5b1a5-81c9-4483-9a0f-ec394e52238f",
   "metadata": {},
   "outputs": [],
   "source": []
  }
 ],
 "metadata": {
  "kernelspec": {
   "display_name": "Python 3 (ipykernel)",
   "language": "python",
   "name": "python3"
  },
  "language_info": {
   "codemirror_mode": {
    "name": "ipython",
    "version": 3
   },
   "file_extension": ".py",
   "mimetype": "text/x-python",
   "name": "python",
   "nbconvert_exporter": "python",
   "pygments_lexer": "ipython3",
   "version": "3.10.8"
  }
 },
 "nbformat": 4,
 "nbformat_minor": 5
}
